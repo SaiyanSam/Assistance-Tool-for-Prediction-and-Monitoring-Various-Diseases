{
 "cells": [
  {
   "cell_type": "code",
   "execution_count": 1,
   "metadata": {},
   "outputs": [],
   "source": [
    "from tkinter import *\n",
    "import pandas as pd\n",
    "import numpy as np\n",
    "\n",
    "checkup = pd.read_csv('C://CAPSTONE//CodeData//UserData//capstone.csv')\n",
    "data = pd.read_csv('C://CAPSTONE//DataSets//Generalised//CSV//Severity.csv')\n",
    "index = pd.read_csv('C://CAPSTONE//DataSets//Generalised//CSV//Indexing.csv')\n",
    "index = index['Disease']\n",
    "severity = data['weight']\n",
    "symptoms = data['Symptom']\n",
    "size = (checkup.shape)[0]"
   ]
  },
  {
   "cell_type": "code",
   "execution_count": 2,
   "metadata": {},
   "outputs": [
    {
     "name": "stdout",
     "output_type": "stream",
     "text": [
      "['23-3-2021', '24-3-2021', '25-3-2021', '26-3-2021', '27-3-2021', '28-3-2021', '29-3-2021', '2-4-2021']\n"
     ]
    }
   ],
   "source": [
    "# storing checkup dates in dictionary\n",
    "dates = []\n",
    "for key in range(size):\n",
    "    date = str(checkup['A'][key]) + \"-\" + str(checkup['B'][key]) + \"-\" + str(checkup['C'][key])\n",
    "    dates.append(date)\n",
    "print(dates)"
   ]
  },
  {
   "cell_type": "code",
   "execution_count": 3,
   "metadata": {},
   "outputs": [
    {
     "name": "stdout",
     "output_type": "stream",
     "text": [
      "[5.0, 5.0, 3.5, 1.75, 3.0, 6.5, 6.0, 5.0]\n"
     ]
    }
   ],
   "source": [
    "# storing average severity in dictionary \n",
    "avg_severe = []\n",
    "for key in range(size):\n",
    "    avg_severe.append(checkup['G'][key]) \n",
    "print(avg_severe)"
   ]
  },
  {
   "cell_type": "code",
   "execution_count": 4,
   "metadata": {},
   "outputs": [
    {
     "name": "stdout",
     "output_type": "stream",
     "text": [
      "        Date   Avg\n",
      "0  23-3-2021  5.00\n",
      "1  24-3-2021  5.00\n",
      "2  25-3-2021  3.50\n",
      "3  26-3-2021  1.75\n",
      "4  27-3-2021  3.00\n",
      "5  28-3-2021  6.50\n",
      "6  29-3-2021  6.00\n",
      "7   2-4-2021  5.00\n"
     ]
    }
   ],
   "source": [
    "data = {'Date': dates, 'Avg': avg_severe}  \n",
    "  \n",
    "# Create DataFrame  \n",
    "df = pd.DataFrame(data)\n",
    "print(df)"
   ]
  },
  {
   "cell_type": "code",
   "execution_count": 11,
   "metadata": {},
   "outputs": [
    {
     "data": {
      "image/png": "[encoded data removed]",
      "text/plain": [
       "<Figure size 1080x360 with 1 Axes>"
      ]
     },
     "metadata": {
      "needs_background": "light"
     },
     "output_type": "display_data"
    }
   ],
   "source": [
    "from matplotlib import pyplot as plt\n",
    "from matplotlib.pyplot import figure\n",
    "\n",
    "import matplotlib.cm as cm\n",
    "from matplotlib.colors import Normalize\n",
    "\n",
    "ids = []\n",
    "for i in range(1,size+1):\n",
    "    ids.append(i)\n",
    "\n",
    "# Get a color map\n",
    "my_cmap = cm.get_cmap('RdYlGn_r')\n",
    "\n",
    "# Get normalize function (takes data in range [vmin, vmax] -> [0, 1])\n",
    "my_norm = Normalize(vmin=1, vmax=7)\n",
    "\n",
    "f, ax = plt.subplots(figsize = (15,5))\n",
    "ax.bar( ids, avg_severe , color=my_cmap(my_norm(avg_severe)))\n",
    "plt.title('Checkup-Wise Severity Levels')\n",
    "plt.xlabel('Checkup ID')\n",
    "plt.ylabel('Severity')\n",
    "plt.xticks(np.arange(1,size+1))\n",
    "ax.set_ylim(ymin=0)\n",
    "plt.show()"
   ]
  },
  {
   "cell_type": "code",
   "execution_count": null,
   "metadata": {
    "collapsed": true
   },
   "outputs": [],
   "source": []
  }
 ],
 "metadata": {
  "kernelspec": {
   "display_name": "Python 3",
   "language": "python",
   "name": "python3"
  },
  "language_info": {
   "codemirror_mode": {
    "name": "ipython",
    "version": 3
   },
   "file_extension": ".py",
   "mimetype": "text/x-python",
   "name": "python",
   "nbconvert_exporter": "python",
   "pygments_lexer": "ipython3",
   "version": "3.8.5"
  }
 },
 "nbformat": 4,
 "nbformat_minor": 2
}
