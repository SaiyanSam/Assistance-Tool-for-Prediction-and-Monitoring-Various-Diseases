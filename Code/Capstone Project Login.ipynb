{
 "cells": [
  {
   "cell_type": "code",
   "execution_count": 74,
   "metadata": {},
   "outputs": [
    {
     "name": "stdout",
     "output_type": "stream",
     "text": [
      "1\n"
     ]
    }
   ],
   "source": [
    "from tkinter import *\n",
    "import pandas as pd\n",
    "\n",
    "users = pd.read_csv('C://CAPSTONE//CodeData//users.csv')\n",
    "size = (users.shape)[0]\n",
    "current = ''\n",
    "username = ''\n",
    "userid = -1\n",
    "\n",
    "def special():\n",
    "    print('1')\n",
    "    \n",
    "def general():\n",
    "    print('2')\n",
    "    \n",
    "def history():\n",
    "    print('3')\n",
    "\n",
    "def login():\n",
    "    global size\n",
    "    global current\n",
    "    global userid\n",
    "    input1 = name_var.get()\n",
    "    input2 = passw_var.get()\n",
    "    flag1 = 0\n",
    "    flag2 = 0\n",
    "    for key in range(size):\n",
    "        if (users['A'][key] == input1):\n",
    "            flag1 = 1\n",
    "            #check passwords dictionary\n",
    "            if( users['B'][key] == input2):\n",
    "                flag2 = 1\n",
    "                userid = key+1\n",
    "                current = input1\n",
    "    if flag1 == 0:\n",
    "        textv.set(\"User not found!\")\n",
    "    elif flag2 == 0:\n",
    "        textv.set('Wrong password!')\n",
    "    else:\n",
    "        textv.set(\"Authorized\")\n",
    "        print(userid)\n",
    "        master.destroy()\n",
    "        master1 = Tk()\n",
    "        \n",
    "        username = StringVar()\n",
    "        user_id = StringVar()\n",
    "        Label( master1 , text = 'USER HOMEPAGE', font=(\"Arial\", 15), fg = \"blue\", pady = 20).grid( row = 0 , column = 1, columnspan = 2)\n",
    "        Label( master1 , text = 'Username :' , font=(\"Arial\", 10), width = 30, pady = 10).grid( row = 2 , column = 1)\n",
    "        Label( master1 , textvariable = username , font=(\"Arial\", 10), width = 30, pady = 10).grid( row = 2 , column = 2)\n",
    "        Label( master1 , text = 'User ID :' , font=(\"Arial\", 10), width = 30).grid( row = 3 , column = 1)\n",
    "        Label( master1 , textvariable = user_id , font=(\"Arial\", 10), width = 30, pady = 10).grid( row = 3 , column = 2)\n",
    "        Label( master1 , text = ' ' , width = 10).grid( row = 2)\n",
    "        Label( master1 , text = ' ' , width = 10).grid( row = 2 , column = 3)\n",
    "        Label( master1 , text = ' ' , width = 10 , pady = 20).grid( row = 4)\n",
    "        Label( master1 , text = ' ' , width = 10 , pady = 20).grid( row = 6)\n",
    "        username.set(current)\n",
    "        user_id.set('CPL00'+str(userid))\n",
    "\n",
    "        button1 = Button( master1 , text = 'Check Patient History', width = 25, font=(\"Arial\", 12), fg = \"blue\", command = history, pady = 10)\n",
    "        button1.grid( row = 5 , column = 1 , columnspan = 2)\n",
    "        button2 = Button( master1 , text = 'Specialized Checkup', width = 25, font=(\"Arial\", 12), fg = \"blue\", command = special, pady = 10)\n",
    "        button2.grid( row = 7 , column = 1)\n",
    "        button3 = Button( master1 , text = 'Generalized Checkup', width = 25, font=(\"Arial\", 12), fg = \"blue\", command = general, pady = 10)\n",
    "        button3.grid( row = 7 , column = 2)\n",
    "\n",
    "        master1.mainloop()\n",
    "        \n",
    "def new():\n",
    "    name_var.set('')\n",
    "    passw_var.set('')\n",
    "    textv.set(\"Enter Unique Username and Password\")\n",
    "    button1.config(state = DISABLED)\n",
    "    button2.config(command = new_check)\n",
    "    \n",
    "def new_check():\n",
    "    global users\n",
    "    global size\n",
    "    input1 = name_var.get()\n",
    "    input2 = passw_var.get()\n",
    "    flag = 0\n",
    "    for key in range(size):\n",
    "        if(users['A'][key] == input1):\n",
    "            flag = 1\n",
    "    if flag==0:\n",
    "        textv.set(\"New User Created!\")\n",
    "        #add new user\n",
    "        data = pd.DataFrame({\"A\":[input1] , \"B\":[input2]})\n",
    "        data1 = pd.DataFrame({\"A\":[] , \"B\":[] , \"C\":[] , \"D\":[] , \"E\":[] , \"F\":[] , \"G\":[] , \"H\":[]})\n",
    "        users = users.append(data, ignore_index = True)\n",
    "        \n",
    "        size = size+1\n",
    "        button2.config(command = new)\n",
    "        button1.config(state = NORMAL)\n",
    "        name_var.set('')\n",
    "        passw_var.set('')\n",
    "        \n",
    "        path = 'F://CAPSTONE//CodeData//UserData//' + input1 + '.csv'\n",
    "        #save new users in csv file\n",
    "        data1.to_csv(path, index = False)\n",
    "        users.to_csv('F://CAPSTONE//CodeData//users.csv', index = False)\n",
    "\n",
    "    else:\n",
    "        textv.set(\"Username Already Taken!\")\n",
    "\n",
    "master = Tk()\n",
    "\n",
    "Label( master , text = 'LOGIN SECTION', font=(\"Arial\", 15), fg = \"blue\", pady = 20).grid( row = 0 , column = 1, columnspan = 2)\n",
    "Label( master , text = 'Username :' , font=(\"Arial\", 10), width = 30, pady = 10).grid( row = 2 , column = 1) \n",
    "Label( master , text = 'Password :' , font=(\"Arial\", 10), width = 30).grid( row = 3 , column = 1)\n",
    "Label( master , text = ' ' , width = 10).grid( row = 2)\n",
    "Label( master , text = ' ' , width = 10).grid( row = 2 , column = 3)\n",
    "\n",
    "name_var = StringVar()\n",
    "passw_var = StringVar()\n",
    "textv = StringVar()\n",
    "bttxt1 = StringVar()\n",
    "bttxt2 = StringVar()\n",
    "e1 = Entry( master , textvariable = name_var , width = 30, fg = \"blue\").grid( row = 2, column = 2)\n",
    "e2 = Entry( master , textvariable = passw_var , show='*', width = 30, fg = \"blue\").grid( row = 3 , column = 2)\n",
    "txt = Label( master , textvariable = textv , pady = 10 , fg = 'Red').grid( row = 5 , column = 1 , columnspan = 2)\n",
    "button1 = Button( master , textvariable = bttxt1, width = 25, font=(\"Arial\", 12), fg = \"blue\", command = login, pady = 10)\n",
    "button1.grid( row = 6 , column = 1)\n",
    "button2 = Button( master , textvariable = bttxt2, width = 25, font=(\"Arial\", 12), fg = \"blue\", command = new, pady = 10)\n",
    "button2.grid( row = 6 , column = 2)\n",
    "bttxt1.set(\"Login\")\n",
    "bttxt2.set(\"New User\")\n",
    "\n",
    "master.mainloop()"
   ]
  },
  {
   "cell_type": "code",
   "execution_count": null,
   "metadata": {
    "collapsed": true
   },
   "outputs": [],
   "source": []
  },
  {
   "cell_type": "code",
   "execution_count": null,
   "metadata": {
    "collapsed": true
   },
   "outputs": [],
   "source": []
  },
  {
   "cell_type": "code",
   "execution_count": null,
   "metadata": {
    "collapsed": true
   },
   "outputs": [],
   "source": []
  },
  {
   "cell_type": "code",
   "execution_count": null,
   "metadata": {
    "collapsed": true
   },
   "outputs": [],
   "source": []
  },
  {
   "cell_type": "code",
   "execution_count": null,
   "metadata": {
    "collapsed": true
   },
   "outputs": [],
   "source": []
  }
 ],
 "metadata": {
  "kernelspec": {
   "display_name": "Python 3",
   "language": "python",
   "name": "python3"
  },
  "language_info": {
   "codemirror_mode": {
    "name": "ipython",
    "version": 3
   },
   "file_extension": ".py",
   "mimetype": "text/x-python",
   "name": "python",
   "nbconvert_exporter": "python",
   "pygments_lexer": "ipython3",
   "version": "3.8.5"
  }
 },
 "nbformat": 4,
 "nbformat_minor": 2
}
